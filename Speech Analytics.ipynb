{
 "cells": [
  {
   "cell_type": "markdown",
   "id": "ad48143d",
   "metadata": {},
   "source": [
    "#  Speech Analytics"
   ]
  },
  {
   "cell_type": "markdown",
   "id": "3da952de",
   "metadata": {},
   "source": [
    "###  installing the libraries"
   ]
  },
  {
   "cell_type": "code",
   "execution_count": null,
   "id": "2173c5be",
   "metadata": {},
   "outputs": [],
   "source": []
  },
  {
   "cell_type": "markdown",
   "id": "5be21c43",
   "metadata": {},
   "source": [
    "### How to play audio using python code"
   ]
  },
  {
   "cell_type": "code",
   "execution_count": 1,
   "id": "1c31a463",
   "metadata": {},
   "outputs": [],
   "source": [
    "from playsound import playsound\n",
    "import os"
   ]
  },
  {
   "cell_type": "code",
   "execution_count": 24,
   "id": "32d6757f",
   "metadata": {},
   "outputs": [],
   "source": [
    "playsound('file.mp3')"
   ]
  },
  {
   "cell_type": "code",
   "execution_count": 25,
   "id": "5774aa40",
   "metadata": {},
   "outputs": [
    {
     "data": {
      "text/plain": [
       "0"
      ]
     },
     "execution_count": 25,
     "metadata": {},
     "output_type": "execute_result"
    }
   ],
   "source": [
    "os.system(\"file.mp3\")"
   ]
  },
  {
   "cell_type": "markdown",
   "id": "b51c76ca",
   "metadata": {},
   "source": [
    "# Text to speech"
   ]
  },
  {
   "cell_type": "markdown",
   "id": "90729a33",
   "metadata": {},
   "source": [
    "### Using gTTS"
   ]
  },
  {
   "cell_type": "markdown",
   "id": "7499f0e0",
   "metadata": {},
   "source": [
    "Text-to-speech (TTS) technology reads the digital, it can take words from user and convert them into Audio.\n",
    "There are many API's are available in Python in order to convert text to speech lets discuss some of them one by one "
   ]
  },
  {
   "cell_type": "markdown",
   "id": "101e9577",
   "metadata": {},
   "source": [
    "gTTS API is the Google Text to Speech API <br>\n",
    "'Features'<br>\n",
    "Customizable speech-specific sentence tokenizer that allows for unlimited lengths of text to be read, all while keeping proper intonation, abbreviations, decimals and more;<br>\n",
    "Customizable text pre-processors which can, for example, provide pronunciation corrections<br>\n",
    "Documentation https://gtts.readthedocs.io/en/latest/module.html\n",
    "<br>GTTS is an easy tool to convert text to voice, but it requires an internet connection to operate because it depends entirely on Google to get the audio data."
   ]
  },
  {
   "cell_type": "code",
   "execution_count": 4,
   "id": "f5f5cc1a",
   "metadata": {},
   "outputs": [],
   "source": [
    "from gtts import gTTS,lang"
   ]
  },
  {
   "cell_type": "code",
   "execution_count": 5,
   "id": "06a94c63",
   "metadata": {},
   "outputs": [],
   "source": [
    "tts = gTTS('Kalash Jindal')\n",
    "tts.save('my.mp3')\n",
    "playsound(\"my.mp3\")"
   ]
  },
  {
   "cell_type": "code",
   "execution_count": 6,
   "id": "29113641",
   "metadata": {},
   "outputs": [],
   "source": [
    "text_to_convert=\"Hello Kalash here Nice to meet you\""
   ]
  },
  {
   "cell_type": "code",
   "execution_count": 7,
   "id": "77916e8d",
   "metadata": {},
   "outputs": [],
   "source": [
    "tts=gTTS(text = text_to_convert, lang ='en', slow = False)\n",
    "tts.save('text_to_convert.mp3')\n",
    "playsound('text_to_convert.mp3')"
   ]
  },
  {
   "cell_type": "code",
   "execution_count": 8,
   "id": "20e8b367",
   "metadata": {},
   "outputs": [],
   "source": [
    "file = open(\"file.txt\",\"r\").read().replace(\"\\n\",\" \")"
   ]
  },
  {
   "cell_type": "code",
   "execution_count": 9,
   "id": "944e0a42",
   "metadata": {},
   "outputs": [
    {
     "data": {
      "text/plain": [
       "'hey  kalash here  lets code '"
      ]
     },
     "execution_count": 9,
     "metadata": {},
     "output_type": "execute_result"
    }
   ],
   "source": [
    "file"
   ]
  },
  {
   "cell_type": "code",
   "execution_count": 10,
   "id": "c806d498",
   "metadata": {},
   "outputs": [],
   "source": [
    "tts=gTTS(text = file, lang ='en', slow = False)\n",
    "tts.save('file.mp3')\n",
    "playsound('file.mp3')"
   ]
  },
  {
   "cell_type": "code",
   "execution_count": 11,
   "id": "55efe748",
   "metadata": {},
   "outputs": [
    {
     "name": "stdout",
     "output_type": "stream",
     "text": [
      "{'af': 'Afrikaans', 'ar': 'Arabic', 'bn': 'Bengali', 'bs': 'Bosnian', 'ca': 'Catalan', 'cs': 'Czech', 'cy': 'Welsh', 'da': 'Danish', 'de': 'German', 'el': 'Greek', 'en': 'English', 'eo': 'Esperanto', 'es': 'Spanish', 'et': 'Estonian', 'fi': 'Finnish', 'fr': 'French', 'gu': 'Gujarati', 'hi': 'Hindi', 'hr': 'Croatian', 'hu': 'Hungarian', 'hy': 'Armenian', 'id': 'Indonesian', 'is': 'Icelandic', 'it': 'Italian', 'ja': 'Japanese', 'jw': 'Javanese', 'km': 'Khmer', 'kn': 'Kannada', 'ko': 'Korean', 'la': 'Latin', 'lv': 'Latvian', 'mk': 'Macedonian', 'ml': 'Malayalam', 'mr': 'Marathi', 'my': 'Myanmar (Burmese)', 'ne': 'Nepali', 'nl': 'Dutch', 'no': 'Norwegian', 'pl': 'Polish', 'pt': 'Portuguese', 'ro': 'Romanian', 'ru': 'Russian', 'si': 'Sinhala', 'sk': 'Slovak', 'sq': 'Albanian', 'sr': 'Serbian', 'su': 'Sundanese', 'sv': 'Swedish', 'sw': 'Swahili', 'ta': 'Tamil', 'te': 'Telugu', 'th': 'Thai', 'tl': 'Filipino', 'tr': 'Turkish', 'uk': 'Ukrainian', 'ur': 'Urdu', 'vi': 'Vietnamese', 'zh-CN': 'Chinese', 'zh-TW': 'Chinese (Mandarin/Taiwan)', 'zh': 'Chinese (Mandarin)'}\n"
     ]
    }
   ],
   "source": [
    "#Google Translate text-to-speech can speak in different local ‘accents’ just you have to use the language \n",
    "\n",
    "print(lang.tts_langs())"
   ]
  },
  {
   "cell_type": "code",
   "execution_count": null,
   "id": "952ad997",
   "metadata": {},
   "outputs": [],
   "source": []
  },
  {
   "cell_type": "markdown",
   "id": "43635992",
   "metadata": {},
   "source": [
    "###  Using pyttx3"
   ]
  },
  {
   "cell_type": "code",
   "execution_count": 12,
   "id": "230ee87c",
   "metadata": {},
   "outputs": [],
   "source": [
    "import pyttsx3"
   ]
  },
  {
   "cell_type": "code",
   "execution_count": 13,
   "id": "9eff2851",
   "metadata": {},
   "outputs": [],
   "source": [
    "engine = pyttsx3.init()"
   ]
  },
  {
   "cell_type": "code",
   "execution_count": 14,
   "id": "80b19c92",
   "metadata": {},
   "outputs": [],
   "source": [
    "text = \"I am a data scientist\"\n",
    "engine.say(text)\n"
   ]
  },
  {
   "cell_type": "code",
   "execution_count": 15,
   "id": "f3f1567d",
   "metadata": {},
   "outputs": [],
   "source": [
    "# play the speech\n",
    "engine.runAndWait()"
   ]
  },
  {
   "cell_type": "code",
   "execution_count": 16,
   "id": "289498ce",
   "metadata": {},
   "outputs": [
    {
     "name": "stdout",
     "output_type": "stream",
     "text": [
      "200\n"
     ]
    }
   ],
   "source": [
    "# get details of speaking rate\n",
    "rate = engine.getProperty(\"rate\")\n",
    "print(rate)"
   ]
  },
  {
   "cell_type": "code",
   "execution_count": 17,
   "id": "06ce52d6",
   "metadata": {},
   "outputs": [],
   "source": [
    "engine.setProperty(\"rate\", 300)\n",
    "engine.say(text)\n",
    "engine.runAndWait()"
   ]
  },
  {
   "cell_type": "code",
   "execution_count": 18,
   "id": "7e02a083",
   "metadata": {},
   "outputs": [],
   "source": [
    "# slower\n",
    "engine.setProperty(\"rate\", 100)\n",
    "engine.say(text)\n",
    "engine.runAndWait()"
   ]
  },
  {
   "cell_type": "code",
   "execution_count": 19,
   "id": "26a08472",
   "metadata": {},
   "outputs": [
    {
     "name": "stdout",
     "output_type": "stream",
     "text": [
      "[<pyttsx3.voice.Voice object at 0x000001EB6584CC70>, <pyttsx3.voice.Voice object at 0x000001EB6584CC40>, <pyttsx3.voice.Voice object at 0x000001EB6584C100>]\n"
     ]
    }
   ],
   "source": [
    "voices = engine.getProperty(\"voices\")\n",
    "print(voices)"
   ]
  },
  {
   "cell_type": "code",
   "execution_count": 20,
   "id": "ee76ec3a",
   "metadata": {},
   "outputs": [],
   "source": [
    "engine.setProperty(\"voice\", voices[0].id)\n",
    "engine.say(text)\n",
    "engine.runAndWait()"
   ]
  },
  {
   "cell_type": "code",
   "execution_count": 21,
   "id": "33aa121a",
   "metadata": {},
   "outputs": [],
   "source": [
    "engine.save_to_file(text, \"python.mp3\")\n",
    "engine.runAndWait()"
   ]
  },
  {
   "cell_type": "code",
   "execution_count": null,
   "id": "5559f0ba",
   "metadata": {},
   "outputs": [],
   "source": []
  },
  {
   "cell_type": "markdown",
   "id": "8b7b8c94",
   "metadata": {},
   "source": [
    "##### Microsoft speech engine\n",
    "If you use Microsoft Windows 10, it has a speech engine included.\n",
    "Install the module win32com, then you can use this code:"
   ]
  },
  {
   "cell_type": "code",
   "execution_count": 22,
   "id": "7741f12d",
   "metadata": {},
   "outputs": [
    {
     "data": {
      "text/plain": [
       "1"
      ]
     },
     "execution_count": 22,
     "metadata": {},
     "output_type": "execute_result"
    }
   ],
   "source": [
    "import win32com.client as wincl\n",
    "speak = wincl.Dispatch(\"SAPI.SpVoice\")\n",
    "speak.Speak(\"Hello World\")"
   ]
  },
  {
   "cell_type": "code",
   "execution_count": null,
   "id": "585ab88b",
   "metadata": {},
   "outputs": [],
   "source": []
  },
  {
   "cell_type": "code",
   "execution_count": null,
   "id": "d8cbdb37",
   "metadata": {},
   "outputs": [],
   "source": []
  },
  {
   "cell_type": "code",
   "execution_count": null,
   "id": "b084ac4e",
   "metadata": {},
   "outputs": [],
   "source": []
  },
  {
   "cell_type": "code",
   "execution_count": null,
   "id": "ae9c96d7",
   "metadata": {},
   "outputs": [],
   "source": []
  },
  {
   "cell_type": "code",
   "execution_count": null,
   "id": "f11b9062",
   "metadata": {},
   "outputs": [],
   "source": []
  },
  {
   "cell_type": "code",
   "execution_count": null,
   "id": "7a39f5e6",
   "metadata": {},
   "outputs": [],
   "source": []
  },
  {
   "cell_type": "markdown",
   "id": "de0db36b",
   "metadata": {},
   "source": [
    "# Speech to text"
   ]
  },
  {
   "cell_type": "code",
   "execution_count": 23,
   "id": "b689cc0e",
   "metadata": {},
   "outputs": [],
   "source": [
    "import speech_recognition as sr"
   ]
  },
  {
   "cell_type": "code",
   "execution_count": 26,
   "id": "c8e6b028",
   "metadata": {},
   "outputs": [],
   "source": [
    "r = sr.Recognizer()"
   ]
  },
  {
   "cell_type": "code",
   "execution_count": 27,
   "id": "433fe41d",
   "metadata": {},
   "outputs": [],
   "source": [
    "filename = \"example.wav\""
   ]
  },
  {
   "cell_type": "code",
   "execution_count": 28,
   "id": "45e1d222",
   "metadata": {},
   "outputs": [
    {
     "name": "stdout",
     "output_type": "stream",
     "text": [
      "is about which she had fixed a bug for country seed at a short distance from the city just that what is now called that state should the bonded with proofs of his ingenuity and smoke tax that require host to work some Dutch ovens reverse the meat was held fire caused the month before the horses weathercocks it turned against the wind another 100 ko drive it was established in confounded of beholder\n"
     ]
    }
   ],
   "source": [
    "with sr.AudioFile(filename) as source:\n",
    "    # listen for the data (load audio to memory)\n",
    "    audio_data = r.record(source)\n",
    "    # recognize (convert from speech to text)\n",
    "    text = r.recognize_google(audio_data)\n",
    "    print(text)"
   ]
  },
  {
   "cell_type": "code",
   "execution_count": 29,
   "id": "87e9908f",
   "metadata": {},
   "outputs": [],
   "source": [
    "# importing libraries \n",
    "import speech_recognition as sr \n",
    "import os \n",
    "from pydub import AudioSegment\n",
    "from pydub.silence import split_on_silence\n",
    "\n",
    "# create a speech recognition object\n",
    "r = sr.Recognizer()\n",
    "\n",
    "# a function that splits the audio file into chunks\n",
    "# and applies speech recognition\n",
    "def get_large_audio_transcription(path):\n",
    "    \"\"\"\n",
    "    Splitting the large audio file into chunks\n",
    "    and apply speech recognition on each of these chunks\n",
    "    \"\"\"\n",
    "    # open the audio file using pydub\n",
    "    sound = AudioSegment.from_wav(path)  \n",
    "    # split audio sound where silence is 700 miliseconds or more and get chunks\n",
    "    chunks = split_on_silence(sound,\n",
    "        # experiment with this value for your target audio file\n",
    "        min_silence_len = 500,\n",
    "        # adjust this per requirement\n",
    "        silence_thresh = sound.dBFS-14,\n",
    "        # keep the silence for 1 second, adjustable as well\n",
    "        keep_silence=500,\n",
    "    )\n",
    "    folder_name = \"audio-chunks\"\n",
    "    # create a directory to store the audio chunks\n",
    "    if not os.path.isdir(folder_name):\n",
    "        os.mkdir(folder_name)\n",
    "    whole_text = \"\"\n",
    "    # process each chunk \n",
    "    for i, audio_chunk in enumerate(chunks, start=1):\n",
    "        # export audio chunk and save it in\n",
    "        # the `folder_name` directory.\n",
    "        chunk_filename = os.path.join(folder_name, f\"chunk{i}.wav\")\n",
    "        audio_chunk.export(chunk_filename, format=\"wav\")\n",
    "        # recognize the chunk\n",
    "        with sr.AudioFile(chunk_filename) as source:\n",
    "            audio_listened = r.record(source)\n",
    "            # try converting it to text\n",
    "            try:\n",
    "                text = r.recognize_google(audio_listened)\n",
    "            except sr.UnknownValueError as e:\n",
    "                print(\"Error:\", str(e))\n",
    "            else:\n",
    "                text = f\"{text.capitalize()}. \"\n",
    "                print(chunk_filename, \":\", text)\n",
    "                whole_text += text\n",
    "    # return the text for all chunks detected\n",
    "    return whole_text"
   ]
  },
  {
   "cell_type": "code",
   "execution_count": 30,
   "id": "260ce1c7",
   "metadata": {},
   "outputs": [
    {
     "name": "stdout",
     "output_type": "stream",
     "text": [
      "audio-chunks\\chunk1.wav : His about which she had fixed a bug for country seat. \n",
      "audio-chunks\\chunk2.wav : Are short distance to the city. \n",
      "audio-chunks\\chunk3.wav : Just that what is now called dutch street. \n",
      "audio-chunks\\chunk4.wav : Should bounded with proofs of his ingenuity. \n",
      "audio-chunks\\chunk5.wav : And smoke jack. \n",
      "audio-chunks\\chunk6.wav : Required host version. \n",
      "audio-chunks\\chunk7.wav : Church of windsor was to meet without fire. \n",
      "audio-chunks\\chunk8.wav : Chords for the horses. \n",
      "audio-chunks\\chunk9.wav : Weather cox it turned against the wind and other one headed could try with this. \n",
      "audio-chunks\\chunk10.wav : Rustom stand confounded o b holders. \n",
      "\n",
      "Full text: His about which she had fixed a bug for country seat. Are short distance to the city. Just that what is now called dutch street. Should bounded with proofs of his ingenuity. And smoke jack. Required host version. Church of windsor was to meet without fire. Chords for the horses. Weather cox it turned against the wind and other one headed could try with this. Rustom stand confounded o b holders. \n"
     ]
    }
   ],
   "source": [
    "path = \"example.wav\"\n",
    "print(\"\\nFull text:\", get_large_audio_transcription(path))"
   ]
  },
  {
   "cell_type": "code",
   "execution_count": 31,
   "id": "12d47746",
   "metadata": {},
   "outputs": [
    {
     "ename": "SyntaxError",
     "evalue": "invalid syntax (<ipython-input-31-b5460f068c68>, line 1)",
     "output_type": "error",
     "traceback": [
      "\u001b[1;36m  File \u001b[1;32m\"<ipython-input-31-b5460f068c68>\"\u001b[1;36m, line \u001b[1;32m1\u001b[0m\n\u001b[1;33m    Now let's use our microphone to convert our speech:\u001b[0m\n\u001b[1;37m        ^\u001b[0m\n\u001b[1;31mSyntaxError\u001b[0m\u001b[1;31m:\u001b[0m invalid syntax\n"
     ]
    }
   ],
   "source": [
    "Now let's use our microphone to convert our speech:"
   ]
  },
  {
   "cell_type": "code",
   "execution_count": null,
   "id": "d4631d09",
   "metadata": {},
   "outputs": [],
   "source": [
    "with sr.Microphone() as source:\n",
    "    # read the audio data from the default microphone\n",
    "    audio_data = r.record(source, duration=5)\n",
    "    print(\"Recognizing...\")\n",
    "    # convert speech to text\n",
    "    text = r.recognize_google(audio_data)\n",
    "    print(text)"
   ]
  },
  {
   "cell_type": "code",
   "execution_count": null,
   "id": "371b9596",
   "metadata": {},
   "outputs": [],
   "source": [
    "text = r.recognize_google(audio_data, language=\"es-ES\")"
   ]
  },
  {
   "cell_type": "code",
   "execution_count": null,
   "id": "c61a5a5d",
   "metadata": {},
   "outputs": [],
   "source": [
    "text"
   ]
  },
  {
   "cell_type": "code",
   "execution_count": null,
   "id": "86e540bf",
   "metadata": {},
   "outputs": [],
   "source": []
  },
  {
   "cell_type": "code",
   "execution_count": null,
   "id": "18b70cce",
   "metadata": {},
   "outputs": [],
   "source": []
  },
  {
   "cell_type": "code",
   "execution_count": null,
   "id": "67024981",
   "metadata": {},
   "outputs": [],
   "source": []
  },
  {
   "cell_type": "code",
   "execution_count": null,
   "id": "4c84928e",
   "metadata": {},
   "outputs": [],
   "source": []
  },
  {
   "cell_type": "code",
   "execution_count": null,
   "id": "ad360943",
   "metadata": {},
   "outputs": [],
   "source": []
  },
  {
   "cell_type": "code",
   "execution_count": null,
   "id": "5bb627b3",
   "metadata": {},
   "outputs": [],
   "source": []
  }
 ],
 "metadata": {
  "kernelspec": {
   "display_name": "Python 3",
   "language": "python",
   "name": "python3"
  },
  "language_info": {
   "codemirror_mode": {
    "name": "ipython",
    "version": 3
   },
   "file_extension": ".py",
   "mimetype": "text/x-python",
   "name": "python",
   "nbconvert_exporter": "python",
   "pygments_lexer": "ipython3",
   "version": "3.8.8"
  }
 },
 "nbformat": 4,
 "nbformat_minor": 5
}
